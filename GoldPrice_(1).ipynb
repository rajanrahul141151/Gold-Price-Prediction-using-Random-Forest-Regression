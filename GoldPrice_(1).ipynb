{
  "nbformat": 4,
  "nbformat_minor": 0,
  "metadata": {
    "colab": {
      "name": "GoldPrice (1).ipynb",
      "provenance": [],
      "collapsed_sections": [],
      "include_colab_link": true
    },
    "kernelspec": {
      "name": "python3",
      "display_name": "Python 3"
    },
    "language_info": {
      "name": "python"
    }
  },
  "cells": [
    {
      "cell_type": "markdown",
      "metadata": {
        "id": "view-in-github",
        "colab_type": "text"
      },
      "source": [
        "<a href=\"https://colab.research.google.com/github/rajanrahul141151/Gold-Price-Prediction-using-Random-Forest-Regression/blob/main/GoldPrice_(1).ipynb\" target=\"_parent\"><img src=\"https://colab.research.google.com/assets/colab-badge.svg\" alt=\"Open In Colab\"/></a>"
      ]
    },
    {
      "cell_type": "code",
      "metadata": {
        "id": "AgUwobm3zDhz"
      },
      "source": [
        "import numpy as np\n",
        "import pandas as pd\n",
        "import matplotlib.pyplot as plt\n",
        "import seaborn as sns\n",
        "from sklearn.model_selection import train_test_split\n",
        "from sklearn.ensemble import RandomForestRegressor\n",
        "from sklearn import metrics"
      ],
      "execution_count": null,
      "outputs": []
    },
    {
      "cell_type": "code",
      "metadata": {
        "id": "uGVFoNqpMfAh"
      },
      "source": [
        "dataset = pd.read_csv('/content/drive/MyDrive/MLProjects/Gold_Price/gold_price_data.csv')"
      ],
      "execution_count": null,
      "outputs": []
    },
    {
      "cell_type": "code",
      "metadata": {
        "colab": {
          "base_uri": "https://localhost:8080/",
          "height": 206
        },
        "id": "6sSVtlYsMn0S",
        "outputId": "70e0255e-f4d2-4ef4-f8f9-3b378dff28b7"
      },
      "source": [
        "dataset.head()"
      ],
      "execution_count": null,
      "outputs": [
        {
          "output_type": "execute_result",
          "data": {
            "text/html": [
              "<div>\n",
              "<style scoped>\n",
              "    .dataframe tbody tr th:only-of-type {\n",
              "        vertical-align: middle;\n",
              "    }\n",
              "\n",
              "    .dataframe tbody tr th {\n",
              "        vertical-align: top;\n",
              "    }\n",
              "\n",
              "    .dataframe thead th {\n",
              "        text-align: right;\n",
              "    }\n",
              "</style>\n",
              "<table border=\"1\" class=\"dataframe\">\n",
              "  <thead>\n",
              "    <tr style=\"text-align: right;\">\n",
              "      <th></th>\n",
              "      <th>Date</th>\n",
              "      <th>SPX</th>\n",
              "      <th>GLD</th>\n",
              "      <th>USO</th>\n",
              "      <th>SLV</th>\n",
              "      <th>EUR/USD</th>\n",
              "    </tr>\n",
              "  </thead>\n",
              "  <tbody>\n",
              "    <tr>\n",
              "      <th>0</th>\n",
              "      <td>1/2/2008</td>\n",
              "      <td>1447.160034</td>\n",
              "      <td>84.860001</td>\n",
              "      <td>78.470001</td>\n",
              "      <td>15.180</td>\n",
              "      <td>1.471692</td>\n",
              "    </tr>\n",
              "    <tr>\n",
              "      <th>1</th>\n",
              "      <td>1/3/2008</td>\n",
              "      <td>1447.160034</td>\n",
              "      <td>85.570000</td>\n",
              "      <td>78.370003</td>\n",
              "      <td>15.285</td>\n",
              "      <td>1.474491</td>\n",
              "    </tr>\n",
              "    <tr>\n",
              "      <th>2</th>\n",
              "      <td>1/4/2008</td>\n",
              "      <td>1411.630005</td>\n",
              "      <td>85.129997</td>\n",
              "      <td>77.309998</td>\n",
              "      <td>15.167</td>\n",
              "      <td>1.475492</td>\n",
              "    </tr>\n",
              "    <tr>\n",
              "      <th>3</th>\n",
              "      <td>1/7/2008</td>\n",
              "      <td>1416.180054</td>\n",
              "      <td>84.769997</td>\n",
              "      <td>75.500000</td>\n",
              "      <td>15.053</td>\n",
              "      <td>1.468299</td>\n",
              "    </tr>\n",
              "    <tr>\n",
              "      <th>4</th>\n",
              "      <td>1/8/2008</td>\n",
              "      <td>1390.189941</td>\n",
              "      <td>86.779999</td>\n",
              "      <td>76.059998</td>\n",
              "      <td>15.590</td>\n",
              "      <td>1.557099</td>\n",
              "    </tr>\n",
              "  </tbody>\n",
              "</table>\n",
              "</div>"
            ],
            "text/plain": [
              "       Date          SPX        GLD        USO     SLV   EUR/USD\n",
              "0  1/2/2008  1447.160034  84.860001  78.470001  15.180  1.471692\n",
              "1  1/3/2008  1447.160034  85.570000  78.370003  15.285  1.474491\n",
              "2  1/4/2008  1411.630005  85.129997  77.309998  15.167  1.475492\n",
              "3  1/7/2008  1416.180054  84.769997  75.500000  15.053  1.468299\n",
              "4  1/8/2008  1390.189941  86.779999  76.059998  15.590  1.557099"
            ]
          },
          "metadata": {
            "tags": []
          },
          "execution_count": 4
        }
      ]
    },
    {
      "cell_type": "code",
      "metadata": {
        "colab": {
          "base_uri": "https://localhost:8080/",
          "height": 206
        },
        "id": "aeqRlGSMMq19",
        "outputId": "da5fb94a-c99e-433e-c8df-0571a05c8e85"
      },
      "source": [
        "dataset.tail()"
      ],
      "execution_count": null,
      "outputs": [
        {
          "output_type": "execute_result",
          "data": {
            "text/html": [
              "<div>\n",
              "<style scoped>\n",
              "    .dataframe tbody tr th:only-of-type {\n",
              "        vertical-align: middle;\n",
              "    }\n",
              "\n",
              "    .dataframe tbody tr th {\n",
              "        vertical-align: top;\n",
              "    }\n",
              "\n",
              "    .dataframe thead th {\n",
              "        text-align: right;\n",
              "    }\n",
              "</style>\n",
              "<table border=\"1\" class=\"dataframe\">\n",
              "  <thead>\n",
              "    <tr style=\"text-align: right;\">\n",
              "      <th></th>\n",
              "      <th>Date</th>\n",
              "      <th>SPX</th>\n",
              "      <th>GLD</th>\n",
              "      <th>USO</th>\n",
              "      <th>SLV</th>\n",
              "      <th>EUR/USD</th>\n",
              "    </tr>\n",
              "  </thead>\n",
              "  <tbody>\n",
              "    <tr>\n",
              "      <th>2285</th>\n",
              "      <td>5/8/2018</td>\n",
              "      <td>2671.919922</td>\n",
              "      <td>124.589996</td>\n",
              "      <td>14.0600</td>\n",
              "      <td>15.5100</td>\n",
              "      <td>1.186789</td>\n",
              "    </tr>\n",
              "    <tr>\n",
              "      <th>2286</th>\n",
              "      <td>5/9/2018</td>\n",
              "      <td>2697.790039</td>\n",
              "      <td>124.330002</td>\n",
              "      <td>14.3700</td>\n",
              "      <td>15.5300</td>\n",
              "      <td>1.184722</td>\n",
              "    </tr>\n",
              "    <tr>\n",
              "      <th>2287</th>\n",
              "      <td>5/10/2018</td>\n",
              "      <td>2723.070068</td>\n",
              "      <td>125.180000</td>\n",
              "      <td>14.4100</td>\n",
              "      <td>15.7400</td>\n",
              "      <td>1.191753</td>\n",
              "    </tr>\n",
              "    <tr>\n",
              "      <th>2288</th>\n",
              "      <td>5/14/2018</td>\n",
              "      <td>2730.129883</td>\n",
              "      <td>124.489998</td>\n",
              "      <td>14.3800</td>\n",
              "      <td>15.5600</td>\n",
              "      <td>1.193118</td>\n",
              "    </tr>\n",
              "    <tr>\n",
              "      <th>2289</th>\n",
              "      <td>5/16/2018</td>\n",
              "      <td>2725.780029</td>\n",
              "      <td>122.543800</td>\n",
              "      <td>14.4058</td>\n",
              "      <td>15.4542</td>\n",
              "      <td>1.182033</td>\n",
              "    </tr>\n",
              "  </tbody>\n",
              "</table>\n",
              "</div>"
            ],
            "text/plain": [
              "           Date          SPX         GLD      USO      SLV   EUR/USD\n",
              "2285   5/8/2018  2671.919922  124.589996  14.0600  15.5100  1.186789\n",
              "2286   5/9/2018  2697.790039  124.330002  14.3700  15.5300  1.184722\n",
              "2287  5/10/2018  2723.070068  125.180000  14.4100  15.7400  1.191753\n",
              "2288  5/14/2018  2730.129883  124.489998  14.3800  15.5600  1.193118\n",
              "2289  5/16/2018  2725.780029  122.543800  14.4058  15.4542  1.182033"
            ]
          },
          "metadata": {
            "tags": []
          },
          "execution_count": 5
        }
      ]
    },
    {
      "cell_type": "code",
      "metadata": {
        "colab": {
          "base_uri": "https://localhost:8080/"
        },
        "id": "m-ZZp8OZMwL_",
        "outputId": "5c894f28-5a98-4d5c-f261-b6f91faee77f"
      },
      "source": [
        "dataset.shape"
      ],
      "execution_count": null,
      "outputs": [
        {
          "output_type": "execute_result",
          "data": {
            "text/plain": [
              "(2290, 6)"
            ]
          },
          "metadata": {
            "tags": []
          },
          "execution_count": 7
        }
      ]
    },
    {
      "cell_type": "code",
      "metadata": {
        "colab": {
          "base_uri": "https://localhost:8080/"
        },
        "id": "ZOtlfwPqM0ys",
        "outputId": "1c216bbd-7892-4582-b89e-907250d7254c"
      },
      "source": [
        "dataset.info()"
      ],
      "execution_count": null,
      "outputs": [
        {
          "output_type": "stream",
          "text": [
            "<class 'pandas.core.frame.DataFrame'>\n",
            "RangeIndex: 2290 entries, 0 to 2289\n",
            "Data columns (total 6 columns):\n",
            " #   Column   Non-Null Count  Dtype  \n",
            "---  ------   --------------  -----  \n",
            " 0   Date     2290 non-null   object \n",
            " 1   SPX      2290 non-null   float64\n",
            " 2   GLD      2290 non-null   float64\n",
            " 3   USO      2290 non-null   float64\n",
            " 4   SLV      2290 non-null   float64\n",
            " 5   EUR/USD  2290 non-null   float64\n",
            "dtypes: float64(5), object(1)\n",
            "memory usage: 107.5+ KB\n"
          ],
          "name": "stdout"
        }
      ]
    },
    {
      "cell_type": "code",
      "metadata": {
        "colab": {
          "base_uri": "https://localhost:8080/"
        },
        "id": "VHZE3Y6dPhmj",
        "outputId": "e01bac92-77b3-4393-f239-9228ee1f5eff"
      },
      "source": [
        "# No of missing value\n",
        "dataset.isnull().sum()"
      ],
      "execution_count": null,
      "outputs": [
        {
          "output_type": "execute_result",
          "data": {
            "text/plain": [
              "Date       0\n",
              "SPX        0\n",
              "GLD        0\n",
              "USO        0\n",
              "SLV        0\n",
              "EUR/USD    0\n",
              "dtype: int64"
            ]
          },
          "metadata": {
            "tags": []
          },
          "execution_count": 10
        }
      ]
    },
    {
      "cell_type": "code",
      "metadata": {
        "colab": {
          "base_uri": "https://localhost:8080/",
          "height": 294
        },
        "id": "PB9BpxGrQFvZ",
        "outputId": "7491e1e8-5454-4e30-f596-97db9e2f5f37"
      },
      "source": [
        "#statistics of the dataset\n",
        "dataset.describe()"
      ],
      "execution_count": null,
      "outputs": [
        {
          "output_type": "execute_result",
          "data": {
            "text/html": [
              "<div>\n",
              "<style scoped>\n",
              "    .dataframe tbody tr th:only-of-type {\n",
              "        vertical-align: middle;\n",
              "    }\n",
              "\n",
              "    .dataframe tbody tr th {\n",
              "        vertical-align: top;\n",
              "    }\n",
              "\n",
              "    .dataframe thead th {\n",
              "        text-align: right;\n",
              "    }\n",
              "</style>\n",
              "<table border=\"1\" class=\"dataframe\">\n",
              "  <thead>\n",
              "    <tr style=\"text-align: right;\">\n",
              "      <th></th>\n",
              "      <th>SPX</th>\n",
              "      <th>GLD</th>\n",
              "      <th>USO</th>\n",
              "      <th>SLV</th>\n",
              "      <th>EUR/USD</th>\n",
              "    </tr>\n",
              "  </thead>\n",
              "  <tbody>\n",
              "    <tr>\n",
              "      <th>count</th>\n",
              "      <td>2290.000000</td>\n",
              "      <td>2290.000000</td>\n",
              "      <td>2290.000000</td>\n",
              "      <td>2290.000000</td>\n",
              "      <td>2290.000000</td>\n",
              "    </tr>\n",
              "    <tr>\n",
              "      <th>mean</th>\n",
              "      <td>1654.315776</td>\n",
              "      <td>122.732875</td>\n",
              "      <td>31.842221</td>\n",
              "      <td>20.084997</td>\n",
              "      <td>1.283653</td>\n",
              "    </tr>\n",
              "    <tr>\n",
              "      <th>std</th>\n",
              "      <td>519.111540</td>\n",
              "      <td>23.283346</td>\n",
              "      <td>19.523517</td>\n",
              "      <td>7.092566</td>\n",
              "      <td>0.131547</td>\n",
              "    </tr>\n",
              "    <tr>\n",
              "      <th>min</th>\n",
              "      <td>676.530029</td>\n",
              "      <td>70.000000</td>\n",
              "      <td>7.960000</td>\n",
              "      <td>8.850000</td>\n",
              "      <td>1.039047</td>\n",
              "    </tr>\n",
              "    <tr>\n",
              "      <th>25%</th>\n",
              "      <td>1239.874969</td>\n",
              "      <td>109.725000</td>\n",
              "      <td>14.380000</td>\n",
              "      <td>15.570000</td>\n",
              "      <td>1.171313</td>\n",
              "    </tr>\n",
              "    <tr>\n",
              "      <th>50%</th>\n",
              "      <td>1551.434998</td>\n",
              "      <td>120.580002</td>\n",
              "      <td>33.869999</td>\n",
              "      <td>17.268500</td>\n",
              "      <td>1.303296</td>\n",
              "    </tr>\n",
              "    <tr>\n",
              "      <th>75%</th>\n",
              "      <td>2073.010070</td>\n",
              "      <td>132.840004</td>\n",
              "      <td>37.827501</td>\n",
              "      <td>22.882499</td>\n",
              "      <td>1.369971</td>\n",
              "    </tr>\n",
              "    <tr>\n",
              "      <th>max</th>\n",
              "      <td>2872.870117</td>\n",
              "      <td>184.589996</td>\n",
              "      <td>117.480003</td>\n",
              "      <td>47.259998</td>\n",
              "      <td>1.598798</td>\n",
              "    </tr>\n",
              "  </tbody>\n",
              "</table>\n",
              "</div>"
            ],
            "text/plain": [
              "               SPX          GLD          USO          SLV      EUR/USD\n",
              "count  2290.000000  2290.000000  2290.000000  2290.000000  2290.000000\n",
              "mean   1654.315776   122.732875    31.842221    20.084997     1.283653\n",
              "std     519.111540    23.283346    19.523517     7.092566     0.131547\n",
              "min     676.530029    70.000000     7.960000     8.850000     1.039047\n",
              "25%    1239.874969   109.725000    14.380000    15.570000     1.171313\n",
              "50%    1551.434998   120.580002    33.869999    17.268500     1.303296\n",
              "75%    2073.010070   132.840004    37.827501    22.882499     1.369971\n",
              "max    2872.870117   184.589996   117.480003    47.259998     1.598798"
            ]
          },
          "metadata": {
            "tags": []
          },
          "execution_count": 11
        }
      ]
    },
    {
      "cell_type": "code",
      "metadata": {
        "id": "IwcMWV5dQQrG"
      },
      "source": [
        "#correlation between dataset positive or negative\n",
        "correlation = dataset.corr()"
      ],
      "execution_count": null,
      "outputs": []
    },
    {
      "cell_type": "code",
      "metadata": {
        "colab": {
          "base_uri": "https://localhost:8080/",
          "height": 612
        },
        "id": "m-JeDgAbQqbF",
        "outputId": "3e775c79-f0a7-4b4f-bb00-794bee073ba3"
      },
      "source": [
        "#heat map of correlation\n",
        "plt.figure(figsize=(10,10))\n",
        "sns.heatmap(correlation,cbar=True,fmt='.1f',annot=True,annot_kws={'size':10},cmap='binary')"
      ],
      "execution_count": null,
      "outputs": [
        {
          "output_type": "execute_result",
          "data": {
            "text/plain": [
              "<matplotlib.axes._subplots.AxesSubplot at 0x7f5bd38db310>"
            ]
          },
          "metadata": {
            "tags": []
          },
          "execution_count": 27
        },
        {
          "output_type": "display_data",
          "data": {
            "image/png": "[encoded data removed]",
            "text/plain": [
              "<Figure size 720x720 with 2 Axes>"
            ]
          },
          "metadata": {
            "tags": [],
            "needs_background": "light"
          }
        }
      ]
    },
    {
      "cell_type": "code",
      "metadata": {
        "colab": {
          "base_uri": "https://localhost:8080/"
        },
        "id": "ebTpHtodROUf",
        "outputId": "906fce66-a65b-4b09-eb26-db6d25915252"
      },
      "source": [
        "print(correlation['GLD'])"
      ],
      "execution_count": null,
      "outputs": [
        {
          "output_type": "stream",
          "text": [
            "SPX        0.049345\n",
            "GLD        1.000000\n",
            "USO       -0.186360\n",
            "SLV        0.866632\n",
            "EUR/USD   -0.024375\n",
            "Name: GLD, dtype: float64\n"
          ],
          "name": "stdout"
        }
      ]
    },
    {
      "cell_type": "code",
      "metadata": {
        "colab": {
          "base_uri": "https://localhost:8080/",
          "height": 353
        },
        "id": "swvKmrH8SdtD",
        "outputId": "f5a9ac48-e0f3-43e2-e18f-9bef658dc335"
      },
      "source": [
        "sns.distplot(dataset['GLD'],color='r')"
      ],
      "execution_count": null,
      "outputs": [
        {
          "output_type": "stream",
          "text": [
            "/usr/local/lib/python3.7/dist-packages/seaborn/distributions.py:2557: FutureWarning: `distplot` is a deprecated function and will be removed in a future version. Please adapt your code to use either `displot` (a figure-level function with similar flexibility) or `histplot` (an axes-level function for histograms).\n",
            "  warnings.warn(msg, FutureWarning)\n"
          ],
          "name": "stderr"
        },
        {
          "output_type": "execute_result",
          "data": {
            "text/plain": [
              "<matplotlib.axes._subplots.AxesSubplot at 0x7f5bcf0479d0>"
            ]
          },
          "metadata": {
            "tags": []
          },
          "execution_count": 29
        },
        {
          "output_type": "display_data",
          "data": {
            "image/png": "[encoded data removed]",
            "text/plain": [
              "<Figure size 432x288 with 1 Axes>"
            ]
          },
          "metadata": {
            "tags": [],
            "needs_background": "light"
          }
        }
      ]
    },
    {
      "cell_type": "code",
      "metadata": {
        "id": "FYSCKlJPSroK"
      },
      "source": [
        "#removing date columns and spliting train test\n",
        "x = dataset.drop(['Date','GLD'],axis= 1)#for removing column axis =1,for row axis=0 \n",
        "y = dataset['GLD']"
      ],
      "execution_count": null,
      "outputs": []
    },
    {
      "cell_type": "code",
      "metadata": {
        "colab": {
          "base_uri": "https://localhost:8080/"
        },
        "id": "yGjmFwU_TPSY",
        "outputId": "a6ccebd0-28f0-4475-b71f-2be94f493eb8"
      },
      "source": [
        "print(x,y)"
      ],
      "execution_count": null,
      "outputs": [
        {
          "output_type": "stream",
          "text": [
            "              SPX        USO      SLV   EUR/USD\n",
            "0     1447.160034  78.470001  15.1800  1.471692\n",
            "1     1447.160034  78.370003  15.2850  1.474491\n",
            "2     1411.630005  77.309998  15.1670  1.475492\n",
            "3     1416.180054  75.500000  15.0530  1.468299\n",
            "4     1390.189941  76.059998  15.5900  1.557099\n",
            "...           ...        ...      ...       ...\n",
            "2285  2671.919922  14.060000  15.5100  1.186789\n",
            "2286  2697.790039  14.370000  15.5300  1.184722\n",
            "2287  2723.070068  14.410000  15.7400  1.191753\n",
            "2288  2730.129883  14.380000  15.5600  1.193118\n",
            "2289  2725.780029  14.405800  15.4542  1.182033\n",
            "\n",
            "[2290 rows x 4 columns] 0        84.860001\n",
            "1        85.570000\n",
            "2        85.129997\n",
            "3        84.769997\n",
            "4        86.779999\n",
            "           ...    \n",
            "2285    124.589996\n",
            "2286    124.330002\n",
            "2287    125.180000\n",
            "2288    124.489998\n",
            "2289    122.543800\n",
            "Name: GLD, Length: 2290, dtype: float64\n"
          ],
          "name": "stdout"
        }
      ]
    },
    {
      "cell_type": "code",
      "metadata": {
        "id": "3AHWm71sTUI7"
      },
      "source": [
        "#spliting into traing and test\n",
        "x_train,x_test,y_train,y_test = train_test_split(x,y,test_size=0.2,random_state=2)"
      ],
      "execution_count": null,
      "outputs": []
    },
    {
      "cell_type": "code",
      "metadata": {
        "colab": {
          "base_uri": "https://localhost:8080/"
        },
        "id": "J-hUWZcxT1YO",
        "outputId": "8171e320-0bde-49b8-a558-c1f269103455"
      },
      "source": [
        "print(x_train,y_train)"
      ],
      "execution_count": null,
      "outputs": [
        {
          "output_type": "stream",
          "text": [
            "              SPX        USO        SLV   EUR/USD\n",
            "476   1138.500000  39.790001  16.889999  1.361693\n",
            "1958  2202.939941  10.630000  15.800000  1.063886\n",
            "248    700.820007  24.480000  12.770000  1.256408\n",
            "2231  2656.000000  11.890000  15.570000  1.225280\n",
            "1325  1838.880005  33.040001  19.420000  1.366998\n",
            "...           ...        ...        ...       ...\n",
            "1071  1409.150024  32.320000  32.980000  1.287515\n",
            "433   1132.989990  40.270000  17.230000  1.442398\n",
            "674   1286.119995  38.610001  27.389999  1.357276\n",
            "1099  1461.890015  33.919998  29.180000  1.306745\n",
            "1608  2092.429932  18.500000  15.600000  1.057295\n",
            "\n",
            "[1832 rows x 4 columns] 476     109.879997\n",
            "1958    115.540001\n",
            "248      90.930000\n",
            "2231    125.370003\n",
            "1325    119.889999\n",
            "           ...    \n",
            "1071    169.610001\n",
            "433     109.800003\n",
            "674     129.869995\n",
            "1099    159.429993\n",
            "1608    115.139999\n",
            "Name: GLD, Length: 1832, dtype: float64\n"
          ],
          "name": "stdout"
        }
      ]
    },
    {
      "cell_type": "code",
      "metadata": {
        "colab": {
          "base_uri": "https://localhost:8080/"
        },
        "id": "boqYZEbhT6fq",
        "outputId": "21e88cc5-7280-4086-d4bf-83be7d8965a3"
      },
      "source": [
        "print(x_test,y_test)"
      ],
      "execution_count": null,
      "outputs": [
        {
          "output_type": "stream",
          "text": [
            "              SPX        USO        SLV   EUR/USD\n",
            "903   1351.949951  38.330002  32.900002  1.324854\n",
            "129   1271.510010  93.900002  13.450000  1.472581\n",
            "1787  1880.050049   8.910000  14.340000  1.119996\n",
            "1913  2181.300049  10.960000  18.620001  1.127142\n",
            "2048  2352.949951  10.680000  17.320000  1.067247\n",
            "...           ...        ...        ...       ...\n",
            "923   1370.869995  41.090000  33.220001  1.327492\n",
            "1693  1952.290039  14.930000  13.990000  1.129089\n",
            "2054  2349.010010  11.060000  17.430000  1.064453\n",
            "658   1273.849976  37.680000  28.420000  1.315686\n",
            "376   1057.579956  35.959999  17.250000  1.478131\n",
            "\n",
            "[458 rows x 4 columns] 903     168.020004\n",
            "129      81.230003\n",
            "1787    112.320000\n",
            "1913    127.589996\n",
            "2048    119.620003\n",
            "           ...    \n",
            "923     166.380005\n",
            "1693    106.379997\n",
            "2054    122.239998\n",
            "658     133.830002\n",
            "376     102.360001\n",
            "Name: GLD, Length: 458, dtype: float64\n"
          ],
          "name": "stdout"
        }
      ]
    },
    {
      "cell_type": "code",
      "metadata": {
        "id": "9pbv-9FRT8-c"
      },
      "source": [
        "#Model training\n",
        "RFRegressor = RandomForestRegressor(n_estimators=100)"
      ],
      "execution_count": null,
      "outputs": []
    },
    {
      "cell_type": "code",
      "metadata": {
        "colab": {
          "base_uri": "https://localhost:8080/"
        },
        "id": "iONAebxsaUxg",
        "outputId": "3c39a521-ad8e-43f8-a1b6-0d27dc97d382"
      },
      "source": [
        "RFRegressor.fit(x_train,y_train)"
      ],
      "execution_count": null,
      "outputs": [
        {
          "output_type": "execute_result",
          "data": {
            "text/plain": [
              "RandomForestRegressor(bootstrap=True, ccp_alpha=0.0, criterion='mse',\n",
              "                      max_depth=None, max_features='auto', max_leaf_nodes=None,\n",
              "                      max_samples=None, min_impurity_decrease=0.0,\n",
              "                      min_impurity_split=None, min_samples_leaf=1,\n",
              "                      min_samples_split=2, min_weight_fraction_leaf=0.0,\n",
              "                      n_estimators=100, n_jobs=None, oob_score=False,\n",
              "                      random_state=None, verbose=0, warm_start=False)"
            ]
          },
          "metadata": {
            "tags": []
          },
          "execution_count": 37
        }
      ]
    },
    {
      "cell_type": "code",
      "metadata": {
        "id": "uRIysP9gaau-"
      },
      "source": [
        "#Evaluation\n",
        "y_pred = RFRegressor.predict(x_test)"
      ],
      "execution_count": null,
      "outputs": []
    },
    {
      "cell_type": "code",
      "metadata": {
        "colab": {
          "base_uri": "https://localhost:8080/"
        },
        "id": "_HTrTBgGavOx",
        "outputId": "faa54e2d-88c3-400f-bcff-649bca75e828"
      },
      "source": [
        "print(y_pred)"
      ],
      "execution_count": null,
      "outputs": [
        {
          "output_type": "stream",
          "text": [
            "[168.73389955  82.22809984 116.18390016 127.66470049 120.69580146\n",
            " 154.60619738 150.59459833 125.94990053 117.48929885 126.08720085\n",
            " 116.58440099 171.70880063 141.54709876 167.77019866 115.07230008\n",
            " 117.60800035 139.51560234 170.18410059 159.71620284 159.10589941\n",
            " 155.08040033 125.13719989 174.81829947 157.33870378 125.20470044\n",
            "  93.69549988  77.2792002  120.41040009 119.09079936 167.4667007\n",
            "  88.2060003  125.4065002   91.24280091 117.91790019 121.13299939\n",
            " 136.12400095 115.67510115 115.42500074 147.67129976 107.28090117\n",
            " 104.35020251  87.2058977  126.48290036 117.48499999 154.42529879\n",
            " 119.50880011 108.28580008 108.29419828  93.11460011 127.29929751\n",
            "  74.75220036 113.74019909 121.18330001 111.26729905 118.94639898\n",
            " 120.48839946 159.81489968 168.89440125 147.10929653  85.54099843\n",
            "  94.37410024  86.71089876  90.54459998 118.93110077 126.47960051\n",
            " 127.56679995 169.78910015 122.25869954 117.40919927  98.34530013\n",
            " 168.11060082 143.36179799 132.0267024  121.2029022  121.81349922\n",
            " 119.9661002  114.56410179 118.16830072 107.16200093 127.90320155\n",
            " 114.02609918 107.09900021 116.83990073 119.60489879  88.89850074\n",
            "  88.13689854 146.80110244 127.19190024 113.38060043 110.66619816\n",
            " 108.15619911  77.6753988  170.03910169 114.07149903 121.62859926\n",
            " 127.83150153 154.89229775  91.79989923 135.79360171 159.29740369\n",
            " 124.80130047 125.51760043 130.67160172 114.84550137 119.7813999\n",
            "  92.09939956 110.16559882 168.34189919 157.28279892 114.23229981\n",
            " 106.46990126  79.5566998  113.33050053 125.81070062 107.27319955\n",
            " 119.03540098 155.53800353 159.50289848 120.30449995 134.3900027\n",
            " 101.52409982 117.48969783 119.31050031 113.06600055 102.79019948\n",
            " 160.29269732  99.26150015 146.91010046 125.4236009  169.76779894\n",
            " 125.52339927 127.2611984  127.43510188 113.84399934 112.76100064\n",
            " 123.66019905 102.20839911  89.35789979 125.11119942 101.85579922\n",
            " 107.09029931 113.65930049 117.28160052  99.09799921 121.56990072\n",
            " 162.95529867  87.28959838 106.6124996  116.95240087 127.67520154\n",
            " 124.11720082  80.89469887 120.24860067 157.48719881  88.06349957\n",
            " 110.1160996  119.21989919 171.10899846 102.96599911 105.56710039\n",
            " 122.49480038 157.8098982   87.42969842  93.11640021 112.63490032\n",
            " 176.85609942 114.66129983 119.29060024  94.64370108 125.51540025\n",
            " 166.22410211 114.67470084 116.46510153  88.16939842 149.1603012\n",
            " 120.35319971  89.53319957 112.31119969 117.05890059 118.88350111\n",
            "  88.09359951  94.03250011 117.09970042 118.36100176 120.43870091\n",
            " 126.78279784 121.83439966 150.23019987 165.42660031 118.56249961\n",
            " 120.4114013  150.13670027 118.5454993  171.97029895 105.70719943\n",
            " 105.04970093 149.34930127 113.64250052 124.86760097 147.37920079\n",
            " 119.64370095 115.28840041 112.60569959 113.47860217 143.65470118\n",
            " 117.86819767 102.92570031 115.87010107 103.85950176  99.07360034\n",
            " 117.32430089  90.67619991  91.41780022 153.44489933 102.76649979\n",
            " 154.77600077 114.48290175 138.85810107  90.19069861 115.57959963\n",
            " 114.99389965 122.77030042 121.7576002  165.42440121  92.88329952\n",
            " 135.70470158 121.35589944 120.58240093 104.5763002  142.82550284\n",
            " 121.54109924 116.60680041 113.43890085 127.09219761 122.64089927\n",
            " 125.70019962 121.20380071  86.75269878 132.35390145 145.09070172\n",
            "  92.70879945 159.24069922 158.97740275 126.27179885 165.44099943\n",
            " 108.7501996  109.71910099 103.5259983   94.67800015 127.56970247\n",
            " 106.94350035 161.38409963 121.58560053 131.90489987 130.63830171\n",
            " 160.11869991  90.13039849 174.70100103 126.30750012 126.75849828\n",
            "  86.32929913 124.5216994  150.18089732  89.72949999 106.80429972\n",
            " 109.09609961  83.93399901 136.02239891 155.23710232 139.08550388\n",
            "  73.86160012 152.13690104 126.11549989 126.84110025 127.51299917\n",
            " 108.60199984 156.21379983 114.52010111 116.98670117 125.42019962\n",
            " 153.85300146 121.2453001  156.46789832  92.91890037 125.49750159\n",
            " 126.28490057  87.6858003   92.23929935 126.21069956 128.05080354\n",
            " 113.30590069 117.87619773 120.74320016 127.15909838 119.85910107\n",
            " 136.46730028  93.87929958 119.84210025 113.31970093  94.18529934\n",
            " 109.00539955  86.59239911 109.14259918  89.68920011  92.42070005\n",
            " 131.62280333 162.14920055  89.29490014 119.58570082 133.38000193\n",
            " 124.03690026 128.37620154 101.93359847  89.10949888 131.66920057\n",
            " 120.17920015 108.55970022 168.40450136 115.20880032  86.5628989\n",
            " 118.94110045  91.12109979 161.92579977 116.56780074 121.59610009\n",
            " 160.12389782 120.06959944 112.47089962 108.4419988  126.81149975\n",
            "  76.14330033 103.0657     127.67290234 121.82699892  92.62179984\n",
            " 132.20940106 118.13110078 115.88430011 154.87540251 160.17840073\n",
            " 110.30769955 155.74079841 119.41770066 160.71910048 118.36490061\n",
            " 157.41889901 115.10069977 116.45580038 147.64519955 114.87260084\n",
            " 125.60049871 165.6268988  117.61370003 125.25249916 153.43550342\n",
            " 153.42420284 131.98640021 114.81430034 121.24010201 125.14230087\n",
            "  89.68590044 123.17449983 154.47850113 111.77310035 106.56999963\n",
            " 161.30740133 118.49239945 165.75640087 134.01450076 114.84459958\n",
            " 153.05349901 168.82560027 115.1029     114.10070127 158.85019856\n",
            "  85.10429895 127.05390075 127.97300067 128.84680058 124.24460055\n",
            " 123.92030062  90.44030047 153.13370051  97.14219983 137.89640018\n",
            "  89.18289942 107.1152003  114.99700044 112.66110095 124.45109917\n",
            "  91.40599871 125.38230129 162.26369889 120.18689927 165.01320081\n",
            " 126.82279767 112.37719976 127.60849975  95.13129939  91.10080014\n",
            " 103.504099   120.76809993  82.9272994  126.32709973 160.70260506\n",
            " 117.28570036 118.32009961 119.95659995 122.6350996  119.95580121\n",
            " 121.45009984 118.19200073 107.07380003 148.30120005 126.2462985\n",
            " 115.75780097  73.96789962 127.83100114 154.88920081 122.25979986\n",
            " 125.5902006   88.84900014 103.77949865 124.35230021 120.25140049\n",
            "  73.45840086 151.28589966 121.0747004  104.68859988  86.36349762\n",
            " 115.35359889 172.22409852 119.87280044 159.10839839 113.22469984\n",
            " 121.1295002  118.8306006   96.03389995 118.94890013 125.68170041\n",
            " 118.5470997   96.01360093 154.16020134 121.99480018 147.74619983\n",
            " 159.153502   113.75850017 122.45139938 150.73039849 127.34440014\n",
            " 165.86950123 135.13750016 120.05649966 167.11239876 108.45849948\n",
            " 121.66199896 140.25440191 107.11459885]\n"
          ],
          "name": "stdout"
        }
      ]
    },
    {
      "cell_type": "code",
      "metadata": {
        "id": "N-zPk5YTaxhI"
      },
      "source": [
        "# R squared error\n",
        "error_score = metrics.r2_score(y_test,y_pred)"
      ],
      "execution_count": null,
      "outputs": []
    },
    {
      "cell_type": "code",
      "metadata": {
        "colab": {
          "base_uri": "https://localhost:8080/"
        },
        "id": "NRxGyKE6bFDJ",
        "outputId": "eaa78ea6-a3ba-41b1-c1ad-97fbb0cddf89"
      },
      "source": [
        "print('R Score error : ',error_score)"
      ],
      "execution_count": null,
      "outputs": [
        {
          "output_type": "stream",
          "text": [
            "R Score error :  0.988862650678012\n"
          ],
          "name": "stdout"
        }
      ]
    },
    {
      "cell_type": "code",
      "metadata": {
        "colab": {
          "base_uri": "https://localhost:8080/"
        },
        "id": "v1_OzuM9b3YS",
        "outputId": "250e02f8-7653-453b-fbb2-3bff1040b824"
      },
      "source": [
        "y_test = list(y_test)\n",
        "print(y_test)"
      ],
      "execution_count": null,
      "outputs": [
        {
          "output_type": "stream",
          "text": [
            "[168.020004, 81.230003, 112.32, 127.589996, 119.620003, 154.21000700000002, 148.91000400000001, 126.190002, 117.470001, 125.739998, 115.379997, 167.119995, 141.630005, 169.559998, 115.599998, 119.66999799999999, 132.949997, 170.399994, 159.369995, 173.529999, 154.720001, 128.119995, 177.720001, 157.190002, 125.309998, 93.400002, 76.790001, 119.690002, 118.989998, 167.389999, 87.5, 124.980003, 91.230003, 115.489998, 120.949997, 133.809998, 116.690002, 113.809998, 133.580002, 105.970001, 105.120003, 87.959999, 126.82, 116.860001, 159.259995, 119.459999, 109.160004, 108.620003, 93.269997, 127.160004, 72.260002, 113.470001, 119.68, 109.139999, 119.309998, 120.050003, 159.889999, 161.490005, 146.740005, 85.809998, 93.709999, 85.550003, 91.029999, 118.489998, 126.449997, 126.980003, 171.699997, 122.400002, 116.410004, 97.959999, 169.630005, 142.639999, 131.809998, 121.360001, 124.0, 119.699997, 113.889999, 118.91999799999999, 105.639999, 127.66999799999999, 114.32, 107.309998, 114.82, 119.230003, 86.860001, 87.010002, 147.729996, 128.199997, 113.260002, 110.82, 107.360001, 74.220001, 172.940002, 114.099998, 121.650002, 129.110001, 156.770004, 91.660004, 133.479996, 161.029999, 128.470001, 125.75, 132.28999299999998, 114.019997, 118.230003, 93.709999, 111.150002, 164.28999299999998, 157.770004, 115.510002, 107.129997, 83.309998, 115.150002, 125.540001, 106.08000200000001, 120.58000200000001, 157.139999, 161.059998, 120.309998, 133.070007, 103.949997, 116.360001, 119.309998, 112.370003, 102.839996, 161.199997, 97.050003, 147.830002, 125.32, 171.139999, 123.540001, 127.07, 127.959999, 114.83000200000001, 111.540001, 122.849998, 100.5, 90.040001, 123.989998, 98.900002, 106.16999799999999, 110.82, 120.389999, 98.849998, 122.449997, 162.300003, 86.650002, 106.150002, 116.43, 127.959999, 122.83000200000001, 80.760002, 119.529999, 159.729996, 88.470001, 110.160004, 115.940002, 170.75, 102.339996, 105.019997, 122.730003, 160.330002, 86.949997, 93.190002, 111.43, 172.360001, 114.120003, 120.129997, 93.699997, 126.089996, 167.619995, 116.33000200000001, 117.120003, 87.25, 149.199997, 118.690002, 89.41999799999999, 113.650002, 115.519997, 118.66999799999999, 86.989998, 93.83000200000001, 116.550003, 118.300003, 121.800003, 127.660004, 122.699997, 137.71000700000002, 163.630005, 118.43, 120.870003, 152.619995, 117.959999, 160.639999, 99.910004, 104.269997, 149.820007, 110.449997, 125.440002, 145.649994, 120.220001, 115.68, 113.029999, 112.150002, 134.050003, 118.059998, 102.610001, 116.339996, 104.68, 98.83000200000001, 116.089996, 91.089996, 92.08000200000001, 154.669998, 102.43, 154.770004, 113.68, 138.08999599999999, 91.33000200000001, 116.33000200000001, 115.66999799999999, 122.5438, 122.290001, 166.020004, 92.739998, 137.240005, 121.309998, 119.550003, 104.66999799999999, 135.050003, 122.91999799999999, 115.620003, 113.150002, 124.269997, 123.349998, 125.779999, 121.559998, 85.82, 132.449997, 154.869995, 92.059998, 148.970001, 161.880005, 127.199997, 167.350006, 108.559998, 110.440002, 104.209999, 95.769997, 129.470001, 108.349998, 149.119995, 121.730003, 131.699997, 131.96000700000002, 160.990005, 90.57, 173.889999, 128.08999599999999, 127.550003, 86.779999, 123.940002, 150.419998, 89.269997, 108.050003, 111.019997, 89.18, 138.369995, 156.220001, 134.66000400000001, 73.58000200000001, 152.970001, 126.559998, 126.139999, 127.75, 108.360001, 157.46000700000002, 114.0, 116.989998, 126.860001, 155.240005, 120.650002, 156.990005, 92.790001, 125.389999, 124.889999, 88.25, 91.93, 126.339996, 128.83999599999999, 112.889999, 117.360001, 119.739998, 128.179993, 121.480003, 134.199997, 93.900002, 118.900002, 112.300003, 94.779999, 108.699997, 86.709999, 110.260002, 88.639999, 93.239998, 131.320007, 163.08999599999999, 90.120003, 119.82, 133.940002, 125.839996, 127.739998, 101.459999, 89.18, 132.199997, 122.150002, 110.529999, 172.070007, 115.279999, 85.389999, 121.959999, 90.760002, 161.300003, 116.519997, 120.400002, 160.490005, 121.489998, 114.949997, 109.980003, 126.529999, 73.449997, 102.040001, 130.229996, 121.099998, 91.16999799999999, 132.08999599999999, 117.970001, 116.110001, 156.25, 161.600006, 110.209999, 135.41000400000001, 119.040001, 162.020004, 118.08000200000001, 159.699997, 114.43, 117.980003, 147.770004, 115.33000200000001, 126.230003, 165.58999599999999, 116.790001, 125.029999, 153.229996, 153.470001, 132.809998, 115.029999, 120.959999, 126.470001, 93.089996, 122.519997, 151.41000400000001, 111.66999799999999, 106.949997, 162.619995, 120.050003, 165.16000400000001, 131.570007, 116.16999799999999, 152.990005, 169.429993, 110.57, 115.379997, 161.199997, 85.43, 128.110001, 127.269997, 129.21000700000002, 125.610001, 124.230003, 91.099998, 151.619995, 96.089996, 136.179993, 90.25, 106.93, 115.470001, 111.540001, 126.309998, 90.91999799999999, 125.410004, 163.350006, 117.959999, 166.070007, 127.790001, 111.5, 127.58000200000001, 96.910004, 89.980003, 99.339996, 120.41999799999999, 82.199997, 125.370003, 159.429993, 117.099998, 120.730003, 118.650002, 120.620003, 119.480003, 121.18, 118.809998, 107.559998, 146.380005, 122.83000200000001, 115.43, 71.709999, 128.070007, 157.199997, 120.860001, 126.239998, 89.010002, 102.550003, 124.32, 119.910004, 72.150002, 150.75, 120.029999, 104.099998, 86.230003, 113.58000200000001, 172.100006, 121.480003, 161.53999299999998, 112.769997, 122.41999799999999, 120.940002, 95.989998, 120.760002, 125.32, 118.08000200000001, 97.730003, 154.649994, 120.589996, 143.470001, 160.58999599999999, 111.629997, 122.120003, 146.240005, 127.959999, 164.119995, 133.429993, 122.379997, 166.380005, 106.379997, 122.239998, 133.830002, 102.360001]\n"
          ],
          "name": "stdout"
        }
      ]
    },
    {
      "cell_type": "code",
      "metadata": {
        "id": "qg7pI7PJbG-h"
      },
      "source": [
        "#performance of model through ploting True and predicted values"
      ],
      "execution_count": null,
      "outputs": []
    },
    {
      "cell_type": "code",
      "metadata": {
        "colab": {
          "base_uri": "https://localhost:8080/",
          "height": 295
        },
        "id": "6dTusLChcJ95",
        "outputId": "81b03b49-83a1-4874-aa11-02a783679b5e"
      },
      "source": [
        "plt.plot(y_test,color='g',label='True Value')\n",
        "plt.plot(y_pred,color='red',label='Predicted Value')\n",
        "plt.title('True Gold Price Vs Predicted Gold Price')\n",
        "plt.xlabel('Number os values')\n",
        "plt.ylabel('Gold Price')\n",
        "plt.legend()\n",
        "plt.show()"
      ],
      "execution_count": null,
      "outputs": [
        {
          "output_type": "display_data",
          "data": {
            "image/png": "[encoded data removed]",
            "text/plain": [
              "<Figure size 432x288 with 1 Axes>"
            ]
          },
          "metadata": {
            "tags": [],
            "needs_background": "light"
          }
        }
      ]
    },
    {
      "cell_type": "code",
      "metadata": {
        "id": "u69x08-CcKoO"
      },
      "source": [
        ""
      ],
      "execution_count": null,
      "outputs": []
    }
  ]
}